{
 "cells": [
  {
   "cell_type": "code",
   "execution_count": 1,
   "outputs": [],
   "source": [
    "from imports import *\n",
    "from classes import *"
   ],
   "metadata": {
    "collapsed": false,
    "ExecuteTime": {
     "end_time": "2024-04-18T13:56:13.726972700Z",
     "start_time": "2024-04-18T13:56:10.493440100Z"
    }
   },
   "id": "cd7edf32279645dc"
  },
  {
   "cell_type": "code",
   "execution_count": 30,
   "outputs": [],
   "source": [
    "model = MaskablePPO.load(\"./models/Skyjo_champion_19\")\n",
    "model1 = MaskablePPO.load(\"./models/Skyjo_v0.2.8\")"
   ],
   "metadata": {
    "collapsed": false,
    "ExecuteTime": {
     "end_time": "2024-04-22T07:53:28.161894300Z",
     "start_time": "2024-04-22T07:53:28.140023400Z"
    }
   },
   "id": "b0d2985c5a2c22b4"
  },
  {
   "cell_type": "code",
   "execution_count": 31,
   "outputs": [],
   "source": [
    "def action_state(joueur1, joueur2, model, phase, prec_action, revealedcard, type_model):\n",
    "    inputs = np.array([13] * 25 + [0] * 1, dtype=np.float32)\n",
    "    if phase:\n",
    "        action_mask = np.array([0] * 2 + [1] * 12 + [0] * 12)\n",
    "        if not prec_action:\n",
    "            action_mask[14:26] = [1 * (joueur_1[i] == 13) for i in range(0, 12)]\n",
    "        inputs[25] = 1\n",
    "    else:\n",
    "        action_mask = np.array([1] * 2 + [0] * 24)\n",
    "        inputs[25] = 0\n",
    "    inputs[0], inputs[1:13], inputs[13:25] = revealedcard, joueur1, joueur2\n",
    "    if type_model == \"ancien\":\n",
    "        return model.predict(inputs, action_masks=action_mask, deterministic=True)[0]\n",
    "    else:\n",
    "        revealed = [0] + [1 * (x != 13) for x in joueur_1 + joueur_2] + [0]\n",
    "        values = [inputs[0]] + [x * (x != 13) for x in inputs[1:25]] + [inputs[25]]\n",
    "        obs = {\"observations\": values, \"revealed\": revealed}\n",
    "        return model.predict(obs, action_masks=action_mask, deterministic=True)[0]\n",
    "\n",
    "def print_action(action):\n",
    "    if action == 0:\n",
    "        print(\"Prendre carte cachée\")\n",
    "    elif action == 1:\n",
    "        print(\"Prendre carte visible\")\n",
    "    elif action <= 13:\n",
    "        print(f\"Échanger carte n°{action - 1}\")\n",
    "    else:\n",
    "        print(f\"Révéler carte n°{action - 13}\")"
   ],
   "metadata": {
    "collapsed": false,
    "ExecuteTime": {
     "end_time": "2024-04-22T07:53:28.791112800Z",
     "start_time": "2024-04-22T07:53:28.769103Z"
    }
   },
   "id": "c2af9157c1a36331"
  },
  {
   "cell_type": "code",
   "execution_count": 32,
   "outputs": [],
   "source": [
    "joueur_1 = [13, 13, 13, 13,\n",
    "            13, 13, 13, 13,\n",
    "            13, 13, 13, 13]\n",
    "joueur_2 = [13, 13, 13, 13,\n",
    "            13, 13, 13, 13,\n",
    "            13, 13, 13, 13]"
   ],
   "metadata": {
    "collapsed": false,
    "ExecuteTime": {
     "end_time": "2024-04-22T07:53:29.374058500Z",
     "start_time": "2024-04-22T07:53:29.364142700Z"
    }
   },
   "id": "8e6e7422b3d9d57f"
  },
  {
   "cell_type": "code",
   "execution_count": 99,
   "outputs": [
    {
     "name": "stdout",
     "output_type": "stream",
     "text": [
      "---------------- Nouveau moteur -------------------\n",
      "Échanger carte n°7\n",
      "---------------- Vieux moteur -------------------\n",
      "Échanger carte n°1\n"
     ]
    }
   ],
   "source": [
    "phase, prec_action, revealed_card = 1, 0, 2\n",
    "\n",
    "joueur_1 = [5, 0, 1, -1,\n",
    "            1, -1, 13, -2,\n",
    "            0, -1, -2, 2]\n",
    "joueur_2 = [0, -2, 0, 0,\n",
    "            0, -1, 10, 2,\n",
    "            0, 1, 13, 2]\n",
    "\n",
    "action = action_state(joueur_1, joueur_2, model, phase, prec_action, revealed_card, \"nouveau\")\n",
    "action1 = action_state(joueur_1, joueur_2, model1, phase, prec_action, revealed_card, \"nouveau\")\n",
    "print('---------------- Nouveau moteur -------------------')\n",
    "print_action(action)\n",
    "print('---------------- Vieux moteur -------------------')\n",
    "print_action(action1)"
   ],
   "metadata": {
    "collapsed": false,
    "ExecuteTime": {
     "end_time": "2024-04-22T08:23:29.288364900Z",
     "start_time": "2024-04-22T08:23:29.281673900Z"
    }
   },
   "id": "3495794bea75b7e"
  },
  {
   "cell_type": "code",
   "execution_count": 29,
   "outputs": [
    {
     "name": "stdout",
     "output_type": "stream",
     "text": [
      "Modèle 1 vs heuristic: -24.07\n",
      "Modèle 2 vs heuristic: -9.84\n",
      "Modèle 3 vs heuristic: -0.66\n",
      "Modèle 4 vs heuristic: 1.74\n",
      "Modèle 5 vs heuristic: 1.56\n",
      "Modèle 6 vs heuristic: 5.57\n",
      "Modèle 7 vs heuristic: 5.57\n",
      "Modèle 8 vs heuristic: 4.56\n",
      "Modèle 9 vs heuristic: 4.45\n",
      "Modèle 10 vs heuristic: 6.28\n",
      "Modèle 11 vs heuristic: 6.52\n",
      "Modèle 12 vs heuristic: 6.12\n",
      "Modèle 13 vs heuristic: 5.46\n",
      "Modèle 14 vs heuristic: 4.22\n",
      "Modèle 15 vs heuristic: 5.06\n",
      "Modèle 16 vs heuristic: 4.76\n",
      "Modèle 17 vs heuristic: 4.97\n",
      "Modèle 18 vs heuristic: 4.84\n",
      "Modèle 19 vs heuristic: 6.68\n",
      "Modèle 20 vs heuristic: 7.5\n"
     ]
    },
    {
     "ename": "FileNotFoundError",
     "evalue": "[Errno 2] No such file or directory: 'models\\\\Skyjo_champion_20.zip'",
     "output_type": "error",
     "traceback": [
      "\u001B[1;31m---------------------------------------------------------------------------\u001B[0m",
      "\u001B[1;31mFileNotFoundError\u001B[0m                         Traceback (most recent call last)",
      "Cell \u001B[1;32mIn[29], line 2\u001B[0m\n\u001B[0;32m      1\u001B[0m \u001B[38;5;28;01mfor\u001B[39;00m i \u001B[38;5;129;01min\u001B[39;00m \u001B[38;5;28mrange\u001B[39m(\u001B[38;5;241m0\u001B[39m, \u001B[38;5;241m21\u001B[39m):\n\u001B[1;32m----> 2\u001B[0m     model \u001B[38;5;241m=\u001B[39m \u001B[43mMaskablePPO\u001B[49m\u001B[38;5;241;43m.\u001B[39;49m\u001B[43mload\u001B[49m\u001B[43m(\u001B[49m\u001B[38;5;124;43mf\u001B[39;49m\u001B[38;5;124;43m\"\u001B[39;49m\u001B[38;5;124;43m./models/Skyjo_champion_\u001B[39;49m\u001B[38;5;132;43;01m{\u001B[39;49;00m\u001B[43mi\u001B[49m\u001B[38;5;132;43;01m}\u001B[39;49;00m\u001B[38;5;124;43m\"\u001B[39;49m\u001B[43m)\u001B[49m\n\u001B[0;32m      3\u001B[0m     results \u001B[38;5;241m=\u001B[39m []\n\u001B[0;32m      4\u001B[0m     \u001B[38;5;28;01mfor\u001B[39;00m _ \u001B[38;5;129;01min\u001B[39;00m \u001B[38;5;28mrange\u001B[39m(\u001B[38;5;241m0\u001B[39m, \u001B[38;5;241m3000\u001B[39m):\n",
      "File \u001B[1;32m~\\PycharmProjects\\SkyjoPytorch\\venv\\Lib\\site-packages\\stable_baselines3\\common\\base_class.py:680\u001B[0m, in \u001B[0;36mBaseAlgorithm.load\u001B[1;34m(cls, path, env, device, custom_objects, print_system_info, force_reset, **kwargs)\u001B[0m\n\u001B[0;32m    677\u001B[0m     \u001B[38;5;28mprint\u001B[39m(\u001B[38;5;124m\"\u001B[39m\u001B[38;5;124m== CURRENT SYSTEM INFO ==\u001B[39m\u001B[38;5;124m\"\u001B[39m)\n\u001B[0;32m    678\u001B[0m     get_system_info()\n\u001B[1;32m--> 680\u001B[0m data, params, pytorch_variables \u001B[38;5;241m=\u001B[39m \u001B[43mload_from_zip_file\u001B[49m\u001B[43m(\u001B[49m\n\u001B[0;32m    681\u001B[0m \u001B[43m    \u001B[49m\u001B[43mpath\u001B[49m\u001B[43m,\u001B[49m\n\u001B[0;32m    682\u001B[0m \u001B[43m    \u001B[49m\u001B[43mdevice\u001B[49m\u001B[38;5;241;43m=\u001B[39;49m\u001B[43mdevice\u001B[49m\u001B[43m,\u001B[49m\n\u001B[0;32m    683\u001B[0m \u001B[43m    \u001B[49m\u001B[43mcustom_objects\u001B[49m\u001B[38;5;241;43m=\u001B[39;49m\u001B[43mcustom_objects\u001B[49m\u001B[43m,\u001B[49m\n\u001B[0;32m    684\u001B[0m \u001B[43m    \u001B[49m\u001B[43mprint_system_info\u001B[49m\u001B[38;5;241;43m=\u001B[39;49m\u001B[43mprint_system_info\u001B[49m\u001B[43m,\u001B[49m\n\u001B[0;32m    685\u001B[0m \u001B[43m\u001B[49m\u001B[43m)\u001B[49m\n\u001B[0;32m    687\u001B[0m \u001B[38;5;28;01massert\u001B[39;00m data \u001B[38;5;129;01mis\u001B[39;00m \u001B[38;5;129;01mnot\u001B[39;00m \u001B[38;5;28;01mNone\u001B[39;00m, \u001B[38;5;124m\"\u001B[39m\u001B[38;5;124mNo data found in the saved file\u001B[39m\u001B[38;5;124m\"\u001B[39m\n\u001B[0;32m    688\u001B[0m \u001B[38;5;28;01massert\u001B[39;00m params \u001B[38;5;129;01mis\u001B[39;00m \u001B[38;5;129;01mnot\u001B[39;00m \u001B[38;5;28;01mNone\u001B[39;00m, \u001B[38;5;124m\"\u001B[39m\u001B[38;5;124mNo params found in the saved file\u001B[39m\u001B[38;5;124m\"\u001B[39m\n",
      "File \u001B[1;32m~\\PycharmProjects\\SkyjoPytorch\\venv\\Lib\\site-packages\\stable_baselines3\\common\\save_util.py:403\u001B[0m, in \u001B[0;36mload_from_zip_file\u001B[1;34m(load_path, load_data, custom_objects, device, verbose, print_system_info)\u001B[0m\n\u001B[0;32m    376\u001B[0m \u001B[38;5;28;01mdef\u001B[39;00m \u001B[38;5;21mload_from_zip_file\u001B[39m(\n\u001B[0;32m    377\u001B[0m     load_path: Union[\u001B[38;5;28mstr\u001B[39m, pathlib\u001B[38;5;241m.\u001B[39mPath, io\u001B[38;5;241m.\u001B[39mBufferedIOBase],\n\u001B[0;32m    378\u001B[0m     load_data: \u001B[38;5;28mbool\u001B[39m \u001B[38;5;241m=\u001B[39m \u001B[38;5;28;01mTrue\u001B[39;00m,\n\u001B[1;32m   (...)\u001B[0m\n\u001B[0;32m    382\u001B[0m     print_system_info: \u001B[38;5;28mbool\u001B[39m \u001B[38;5;241m=\u001B[39m \u001B[38;5;28;01mFalse\u001B[39;00m,\n\u001B[0;32m    383\u001B[0m ) \u001B[38;5;241m-\u001B[39m\u001B[38;5;241m>\u001B[39m Tuple[Optional[Dict[\u001B[38;5;28mstr\u001B[39m, Any]], TensorDict, Optional[TensorDict]]:\n\u001B[0;32m    384\u001B[0m \u001B[38;5;250m    \u001B[39m\u001B[38;5;124;03m\"\"\"\u001B[39;00m\n\u001B[0;32m    385\u001B[0m \u001B[38;5;124;03m    Load model data from a .zip archive\u001B[39;00m\n\u001B[0;32m    386\u001B[0m \n\u001B[1;32m   (...)\u001B[0m\n\u001B[0;32m    401\u001B[0m \u001B[38;5;124;03m        and dict of pytorch variables\u001B[39;00m\n\u001B[0;32m    402\u001B[0m \u001B[38;5;124;03m    \"\"\"\u001B[39;00m\n\u001B[1;32m--> 403\u001B[0m     file \u001B[38;5;241m=\u001B[39m \u001B[43mopen_path\u001B[49m\u001B[43m(\u001B[49m\u001B[43mload_path\u001B[49m\u001B[43m,\u001B[49m\u001B[43m \u001B[49m\u001B[38;5;124;43m\"\u001B[39;49m\u001B[38;5;124;43mr\u001B[39;49m\u001B[38;5;124;43m\"\u001B[39;49m\u001B[43m,\u001B[49m\u001B[43m \u001B[49m\u001B[43mverbose\u001B[49m\u001B[38;5;241;43m=\u001B[39;49m\u001B[43mverbose\u001B[49m\u001B[43m,\u001B[49m\u001B[43m \u001B[49m\u001B[43msuffix\u001B[49m\u001B[38;5;241;43m=\u001B[39;49m\u001B[38;5;124;43m\"\u001B[39;49m\u001B[38;5;124;43mzip\u001B[39;49m\u001B[38;5;124;43m\"\u001B[39;49m\u001B[43m)\u001B[49m\n\u001B[0;32m    405\u001B[0m     \u001B[38;5;66;03m# set device to cpu if cuda is not available\u001B[39;00m\n\u001B[0;32m    406\u001B[0m     device \u001B[38;5;241m=\u001B[39m get_device(device\u001B[38;5;241m=\u001B[39mdevice)\n",
      "File \u001B[1;32mC:\\Program Files\\Python311\\Lib\\functools.py:909\u001B[0m, in \u001B[0;36msingledispatch.<locals>.wrapper\u001B[1;34m(*args, **kw)\u001B[0m\n\u001B[0;32m    905\u001B[0m \u001B[38;5;28;01mif\u001B[39;00m \u001B[38;5;129;01mnot\u001B[39;00m args:\n\u001B[0;32m    906\u001B[0m     \u001B[38;5;28;01mraise\u001B[39;00m \u001B[38;5;167;01mTypeError\u001B[39;00m(\u001B[38;5;124mf\u001B[39m\u001B[38;5;124m'\u001B[39m\u001B[38;5;132;01m{\u001B[39;00mfuncname\u001B[38;5;132;01m}\u001B[39;00m\u001B[38;5;124m requires at least \u001B[39m\u001B[38;5;124m'\u001B[39m\n\u001B[0;32m    907\u001B[0m                     \u001B[38;5;124m'\u001B[39m\u001B[38;5;124m1 positional argument\u001B[39m\u001B[38;5;124m'\u001B[39m)\n\u001B[1;32m--> 909\u001B[0m \u001B[38;5;28;01mreturn\u001B[39;00m \u001B[43mdispatch\u001B[49m\u001B[43m(\u001B[49m\u001B[43margs\u001B[49m\u001B[43m[\u001B[49m\u001B[38;5;241;43m0\u001B[39;49m\u001B[43m]\u001B[49m\u001B[38;5;241;43m.\u001B[39;49m\u001B[38;5;18;43m__class__\u001B[39;49m\u001B[43m)\u001B[49m\u001B[43m(\u001B[49m\u001B[38;5;241;43m*\u001B[39;49m\u001B[43margs\u001B[49m\u001B[43m,\u001B[49m\u001B[43m \u001B[49m\u001B[38;5;241;43m*\u001B[39;49m\u001B[38;5;241;43m*\u001B[39;49m\u001B[43mkw\u001B[49m\u001B[43m)\u001B[49m\n",
      "File \u001B[1;32m~\\PycharmProjects\\SkyjoPytorch\\venv\\Lib\\site-packages\\stable_baselines3\\common\\save_util.py:240\u001B[0m, in \u001B[0;36mopen_path_str\u001B[1;34m(path, mode, verbose, suffix)\u001B[0m\n\u001B[0;32m    225\u001B[0m \u001B[38;5;129m@open_path\u001B[39m\u001B[38;5;241m.\u001B[39mregister(\u001B[38;5;28mstr\u001B[39m)\n\u001B[0;32m    226\u001B[0m \u001B[38;5;28;01mdef\u001B[39;00m \u001B[38;5;21mopen_path_str\u001B[39m(path: \u001B[38;5;28mstr\u001B[39m, mode: \u001B[38;5;28mstr\u001B[39m, verbose: \u001B[38;5;28mint\u001B[39m \u001B[38;5;241m=\u001B[39m \u001B[38;5;241m0\u001B[39m, suffix: Optional[\u001B[38;5;28mstr\u001B[39m] \u001B[38;5;241m=\u001B[39m \u001B[38;5;28;01mNone\u001B[39;00m) \u001B[38;5;241m-\u001B[39m\u001B[38;5;241m>\u001B[39m io\u001B[38;5;241m.\u001B[39mBufferedIOBase:\n\u001B[0;32m    227\u001B[0m \u001B[38;5;250m    \u001B[39m\u001B[38;5;124;03m\"\"\"\u001B[39;00m\n\u001B[0;32m    228\u001B[0m \u001B[38;5;124;03m    Open a path given by a string. If writing to the path, the function ensures\u001B[39;00m\n\u001B[0;32m    229\u001B[0m \u001B[38;5;124;03m    that the path exists.\u001B[39;00m\n\u001B[1;32m   (...)\u001B[0m\n\u001B[0;32m    238\u001B[0m \u001B[38;5;124;03m    :return:\u001B[39;00m\n\u001B[0;32m    239\u001B[0m \u001B[38;5;124;03m    \"\"\"\u001B[39;00m\n\u001B[1;32m--> 240\u001B[0m     \u001B[38;5;28;01mreturn\u001B[39;00m \u001B[43mopen_path_pathlib\u001B[49m\u001B[43m(\u001B[49m\u001B[43mpathlib\u001B[49m\u001B[38;5;241;43m.\u001B[39;49m\u001B[43mPath\u001B[49m\u001B[43m(\u001B[49m\u001B[43mpath\u001B[49m\u001B[43m)\u001B[49m\u001B[43m,\u001B[49m\u001B[43m \u001B[49m\u001B[43mmode\u001B[49m\u001B[43m,\u001B[49m\u001B[43m \u001B[49m\u001B[43mverbose\u001B[49m\u001B[43m,\u001B[49m\u001B[43m \u001B[49m\u001B[43msuffix\u001B[49m\u001B[43m)\u001B[49m\n",
      "File \u001B[1;32m~\\PycharmProjects\\SkyjoPytorch\\venv\\Lib\\site-packages\\stable_baselines3\\common\\save_util.py:291\u001B[0m, in \u001B[0;36mopen_path_pathlib\u001B[1;34m(path, mode, verbose, suffix)\u001B[0m\n\u001B[0;32m    285\u001B[0m         path\u001B[38;5;241m.\u001B[39mparent\u001B[38;5;241m.\u001B[39mmkdir(exist_ok\u001B[38;5;241m=\u001B[39m\u001B[38;5;28;01mTrue\u001B[39;00m, parents\u001B[38;5;241m=\u001B[39m\u001B[38;5;28;01mTrue\u001B[39;00m)\n\u001B[0;32m    287\u001B[0m \u001B[38;5;66;03m# if opening was successful uses the open_path() function\u001B[39;00m\n\u001B[0;32m    288\u001B[0m \u001B[38;5;66;03m# if opening failed with IsADirectory|FileNotFound, calls open_path_pathlib\u001B[39;00m\n\u001B[0;32m    289\u001B[0m \u001B[38;5;66;03m#   with corrections\u001B[39;00m\n\u001B[0;32m    290\u001B[0m \u001B[38;5;66;03m# if reading failed with FileNotFoundError, calls open_path_pathlib with suffix\u001B[39;00m\n\u001B[1;32m--> 291\u001B[0m \u001B[38;5;28;01mreturn\u001B[39;00m \u001B[43mopen_path_pathlib\u001B[49m\u001B[43m(\u001B[49m\u001B[43mpath\u001B[49m\u001B[43m,\u001B[49m\u001B[43m \u001B[49m\u001B[43mmode\u001B[49m\u001B[43m,\u001B[49m\u001B[43m \u001B[49m\u001B[43mverbose\u001B[49m\u001B[43m,\u001B[49m\u001B[43m \u001B[49m\u001B[43msuffix\u001B[49m\u001B[43m)\u001B[49m\n",
      "File \u001B[1;32m~\\PycharmProjects\\SkyjoPytorch\\venv\\Lib\\site-packages\\stable_baselines3\\common\\save_util.py:272\u001B[0m, in \u001B[0;36mopen_path_pathlib\u001B[1;34m(path, mode, verbose, suffix)\u001B[0m\n\u001B[0;32m    270\u001B[0m             path, suffix \u001B[38;5;241m=\u001B[39m newpath, \u001B[38;5;28;01mNone\u001B[39;00m\n\u001B[0;32m    271\u001B[0m         \u001B[38;5;28;01melse\u001B[39;00m:\n\u001B[1;32m--> 272\u001B[0m             \u001B[38;5;28;01mraise\u001B[39;00m error\n\u001B[0;32m    273\u001B[0m \u001B[38;5;28;01melse\u001B[39;00m:\n\u001B[0;32m    274\u001B[0m     \u001B[38;5;28;01mtry\u001B[39;00m:\n",
      "File \u001B[1;32m~\\PycharmProjects\\SkyjoPytorch\\venv\\Lib\\site-packages\\stable_baselines3\\common\\save_util.py:264\u001B[0m, in \u001B[0;36mopen_path_pathlib\u001B[1;34m(path, mode, verbose, suffix)\u001B[0m\n\u001B[0;32m    262\u001B[0m \u001B[38;5;28;01mif\u001B[39;00m mode \u001B[38;5;241m==\u001B[39m \u001B[38;5;124m\"\u001B[39m\u001B[38;5;124mr\u001B[39m\u001B[38;5;124m\"\u001B[39m:\n\u001B[0;32m    263\u001B[0m     \u001B[38;5;28;01mtry\u001B[39;00m:\n\u001B[1;32m--> 264\u001B[0m         \u001B[38;5;28;01mreturn\u001B[39;00m open_path(\u001B[43mpath\u001B[49m\u001B[38;5;241;43m.\u001B[39;49m\u001B[43mopen\u001B[49m\u001B[43m(\u001B[49m\u001B[38;5;124;43m\"\u001B[39;49m\u001B[38;5;124;43mrb\u001B[39;49m\u001B[38;5;124;43m\"\u001B[39;49m\u001B[43m)\u001B[49m, mode, verbose, suffix)\n\u001B[0;32m    265\u001B[0m     \u001B[38;5;28;01mexcept\u001B[39;00m \u001B[38;5;167;01mFileNotFoundError\u001B[39;00m \u001B[38;5;28;01mas\u001B[39;00m error:\n\u001B[0;32m    266\u001B[0m         \u001B[38;5;28;01mif\u001B[39;00m suffix \u001B[38;5;129;01mis\u001B[39;00m \u001B[38;5;129;01mnot\u001B[39;00m \u001B[38;5;28;01mNone\u001B[39;00m \u001B[38;5;129;01mand\u001B[39;00m suffix \u001B[38;5;241m!=\u001B[39m \u001B[38;5;124m\"\u001B[39m\u001B[38;5;124m\"\u001B[39m:\n",
      "File \u001B[1;32mC:\\Program Files\\Python311\\Lib\\pathlib.py:1044\u001B[0m, in \u001B[0;36mPath.open\u001B[1;34m(self, mode, buffering, encoding, errors, newline)\u001B[0m\n\u001B[0;32m   1042\u001B[0m \u001B[38;5;28;01mif\u001B[39;00m \u001B[38;5;124m\"\u001B[39m\u001B[38;5;124mb\u001B[39m\u001B[38;5;124m\"\u001B[39m \u001B[38;5;129;01mnot\u001B[39;00m \u001B[38;5;129;01min\u001B[39;00m mode:\n\u001B[0;32m   1043\u001B[0m     encoding \u001B[38;5;241m=\u001B[39m io\u001B[38;5;241m.\u001B[39mtext_encoding(encoding)\n\u001B[1;32m-> 1044\u001B[0m \u001B[38;5;28;01mreturn\u001B[39;00m io\u001B[38;5;241m.\u001B[39mopen(\u001B[38;5;28mself\u001B[39m, mode, buffering, encoding, errors, newline)\n",
      "\u001B[1;31mFileNotFoundError\u001B[0m: [Errno 2] No such file or directory: 'models\\\\Skyjo_champion_20.zip'"
     ]
    }
   ],
   "source": [
    "for i in range(0, 21):\n",
    "    model = MaskablePPO.load(f\"./models/Skyjo_champion_{i}\")\n",
    "    results = []\n",
    "    for _ in range(0, 3000):\n",
    "        results.append(model_fight(model, \"heuristic\"))\n",
    "    \n",
    "    print(f\"Modèle {i+1} vs heuristic: {round(np.mean(results), 2)}\")"
   ],
   "metadata": {
    "collapsed": false,
    "ExecuteTime": {
     "end_time": "2024-04-22T07:36:05.321478600Z",
     "start_time": "2024-04-22T07:13:29.650848Z"
    }
   },
   "id": "22890fd67b0969da"
  },
  {
   "cell_type": "code",
   "execution_count": null,
   "outputs": [],
   "source": [],
   "metadata": {
    "collapsed": false
   },
   "id": "b684c8ca9e5cb794"
  }
 ],
 "metadata": {
  "kernelspec": {
   "display_name": "Python 3",
   "language": "python",
   "name": "python3"
  },
  "language_info": {
   "codemirror_mode": {
    "name": "ipython",
    "version": 2
   },
   "file_extension": ".py",
   "mimetype": "text/x-python",
   "name": "python",
   "nbconvert_exporter": "python",
   "pygments_lexer": "ipython2",
   "version": "2.7.6"
  }
 },
 "nbformat": 4,
 "nbformat_minor": 5
}
